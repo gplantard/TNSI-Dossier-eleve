{
 "cells": [
  {
   "cell_type": "markdown",
   "metadata": {},
   "source": [
    "# Présentation\n",
    "\n",
    "Ce site est le Jupyter Hub pour l'enseignement de NSI. Il sera mis à jour régulièrement au cours de l'année.\n",
    "\n",
    "Tu peux travailler sur les fichiers dont tu disposes sans crainte. Nous allons voir les actions à faire pour récupérer la dernière version des fichiers et comment re-récupérer un fichier après modification."
   ]
  },
  {
   "cell_type": "markdown",
   "metadata": {},
   "source": [
    "# Première récupération\n",
    "Nous allons commencer par récupérer l'ensemble des fichiers qui sont dans le répertoire de travail. Vous pourrez les retrouver dans le repertoire ``dossier_eleve``."
   ]
  },
  {
   "cell_type": "code",
   "execution_count": null,
   "metadata": {},
   "outputs": [],
   "source": [
    "%%bash\n",
    "cd ~\n",
    "git clone https://github.com/gplantard/TNSI-Dossier-Eleve ~/dossier_eleve\n",
    "echo \"Récupération des fichiers terminée. Vous les trouverez dans le repertoire dossier_eleve.\""
   ]
  },
  {
   "cell_type": "markdown",
   "metadata": {},
   "source": [
    "# Mise à jour du dossier de travail\n",
    "\n",
    "Le dossier de travail est le dossier ``dossier_eleve``. La procédure suivante va mettre à jour le repertoire.\n",
    "Si tu as apporté des modifications à un fichier, elles ne seront pas effacées. Tu concerveras donc tout le travail que tu as fait.\n",
    "\n",
    "Si tu veux remettre un fichier à l'état de d'origine (donc effacer tes modifications, tes tests ...), il te suffit d'effacer le fichier puis de procéder à la mise à jour.\n",
    "\n",
    "Pour mettre à jour le répertoire de travail, exécutes le code suivant. Pour cela appuie sur ``Ctlr + Entrée``."
   ]
  },
  {
   "cell_type": "code",
   "execution_count": null,
   "metadata": {},
   "outputs": [],
   "source": [
    "%%bash\n",
    "# Récupération des fichiers effacés \n",
    "rep=\"dossier_eleve\"\n",
    "for file in `git -C ~/$rep/ ls-files --deleted | sed 's/ /--42--/g'`\n",
    "do\n",
    "    newfilename=`echo $file | sed 's/--42--/\\ /g'` \n",
    "    echo \"Récupération du fichier \\\"$newfilename\\\"\"\n",
    "    git -C ~/$rep/ checkout -- \"$newfilename\"\n",
    "done\n",
    "# Récupération des nouveaux fichiers et des mises à jour\n",
    "git -C ~/$rep/ pull"
   ]
  }
 ],
 "metadata": {
  "kernelspec": {
   "display_name": "Python 3",
   "language": "python",
   "name": "python3"
  },
  "language_info": {
   "codemirror_mode": {
    "name": "ipython",
    "version": 3
   },
   "file_extension": ".py",
   "mimetype": "text/x-python",
   "name": "python",
   "nbconvert_exporter": "python",
   "pygments_lexer": "ipython3",
   "version": "3.6.1"
  }
 },
 "nbformat": 4,
 "nbformat_minor": 4
}
